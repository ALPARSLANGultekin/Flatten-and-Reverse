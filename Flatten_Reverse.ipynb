{
 "cells": [
  {
   "cell_type": "markdown",
   "id": "00a4a6b6",
   "metadata": {},
   "source": [
    "www.patika.dev"
   ]
  },
  {
   "cell_type": "code",
   "execution_count": 1,
   "id": "17d713c2",
   "metadata": {},
   "outputs": [
    {
     "name": "stdout",
     "output_type": "stream",
     "text": [
      "[1, 'a', 'cat', 2, 3, 'dog', 4, 5]\n"
     ]
    }
   ],
   "source": [
    "l = [[1,'a',['cat'],2],[[[3]],'dog'],4,5]\n",
    "\n",
    "new_l = []\n",
    "def flatten(x):\n",
    "    for i in x:\n",
    "        if  type(i)==list:  #  i degerinin tipi liste ise \n",
    "            flatten(i)\n",
    "        else:\n",
    "            new_l.append(i)\n",
    "    return new_l \n",
    "print(flatten(l))"
   ]
  },
  {
   "cell_type": "code",
   "execution_count": 3,
   "id": "825724e2",
   "metadata": {},
   "outputs": [
    {
     "name": "stdout",
     "output_type": "stream",
     "text": [
      "[[7, 6, 5], [4, 3], [2, 1]]\n"
     ]
    }
   ],
   "source": [
    "def f(l): \n",
    "    l.reverse() \n",
    "    return l \n",
    "\n",
    "l = [[1, 2], [3, 4], [5, 6, 7]] \n",
    "a = f(l)\n",
    "m = []\n",
    "for i in a:\n",
    "    k = f(i)\n",
    "    m.append(k)\n",
    "print(m)"
   ]
  },
  {
   "cell_type": "code",
   "execution_count": null,
   "id": "32da62a6",
   "metadata": {},
   "outputs": [],
   "source": []
  }
 ],
 "metadata": {
  "kernelspec": {
   "display_name": "Python 3 (ipykernel)",
   "language": "python",
   "name": "python3"
  },
  "language_info": {
   "codemirror_mode": {
    "name": "ipython",
    "version": 3
   },
   "file_extension": ".py",
   "mimetype": "text/x-python",
   "name": "python",
   "nbconvert_exporter": "python",
   "pygments_lexer": "ipython3",
   "version": "3.9.12"
  }
 },
 "nbformat": 4,
 "nbformat_minor": 5
}
